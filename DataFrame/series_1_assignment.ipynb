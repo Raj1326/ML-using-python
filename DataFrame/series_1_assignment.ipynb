{
 "cells": [
  {
   "cell_type": "code",
   "execution_count": 4,
   "metadata": {},
   "outputs": [
    {
     "name": "stdout",
     "output_type": "stream",
     "text": [
      " Tcode          Name Tickets Amount\n",
      " T0001   Anuj Maheta       5   1355\n",
      " T0002   Sandeep Oza       2   1169\n",
      " T0003  Manvi Sharma       6   1988\n"
     ]
    }
   ],
   "source": [
    "import pandas as pd\n",
    "data =[[ 'T0001','Anuj Maheta','5','1355'],\n",
    "       [ 'T0002','Sandeep Oza','2','1169'],\n",
    "       [ 'T0003','Manvi Sharma','6','1988'],\n",
    "        ]\n",
    "booking =pd.DataFrame(data,columns=['Tcode','Name','Tickets','Amount'])\n",
    "print(booking.to_string(index=False))"
   ]
  },
  {
   "cell_type": "code",
   "execution_count": 5,
   "metadata": {},
   "outputs": [
    {
     "name": "stdout",
     "output_type": "stream",
     "text": [
      "         Item         Material       Color  Price\n",
      "         Sofa           Wooden      Maroon  25000\n",
      " Dining Table          Plywood      Yellow  20000\n",
      "        Chair          Plastic         Red   1500\n",
      "         Sofa  Stainless Steel      Silver  55000\n",
      "        Chair           Wooden  Light Blue   2500\n",
      " Dining Table         Aluminum      Golden  65000\n"
     ]
    }
   ],
   "source": [
    "#Qn 2\n",
    "data =[ ['Sofa','Wooden','Maroon',25000],\n",
    "       ['Dining Table','Plywood','Yellow',20000],\n",
    "       ['Chair','Plastic','Red',1500],\n",
    "       ['Sofa','Stainless Steel','Silver',55000],\n",
    "       ['Chair','Wooden','Light Blue',2500],\n",
    "       ['Dining Table','Aluminum','Golden',65000]]\n",
    "furniture =pd.DataFrame(data,columns=['Item','Material','Color','Price'])\n",
    "print(furniture.to_string(index=False))"
   ]
  },
  {
   "cell_type": "code",
   "execution_count": 6,
   "metadata": {},
   "outputs": [
    {
     "name": "stdout",
     "output_type": "stream",
     "text": [
      "   Item         Material   Color  Price\n",
      "0  Sofa           Wooden  Maroon  25000\n",
      "3  Sofa  Stainless Steel  Silver  55000 \n",
      "     Item Material       Color  Price\n",
      "2  Chair  Plastic         Red   1500\n",
      "4  Chair   Wooden  Light Blue   2500\n"
     ]
    }
   ],
   "source": [
    "print(furniture[furniture['Item']=='Sofa'],'\\n',\n",
    "     furniture[furniture['Item']=='Chair'])"
   ]
  },
  {
   "cell_type": "code",
   "execution_count": 7,
   "metadata": {},
   "outputs": [
    {
     "name": "stdout",
     "output_type": "stream",
     "text": [
      "           Item         Material   Color  Price\n",
      "3          Sofa  Stainless Steel  Silver  55000\n",
      "5  Dining Table         Aluminum  Golden  65000\n"
     ]
    }
   ],
   "source": [
    "print(furniture[furniture['Price']>25000])"
   ]
  },
  {
   "cell_type": "code",
   "execution_count": 8,
   "metadata": {},
   "outputs": [
    {
     "name": "stdout",
     "output_type": "stream",
     "text": [
      "    Item Material       Color  Price\n",
      "2  Chair  Plastic         Red   1500\n",
      "4  Chair   Wooden  Light Blue   2500\n"
     ]
    }
   ],
   "source": [
    "print(furniture[furniture['Price']<10000])"
   ]
  },
  {
   "cell_type": "code",
   "execution_count": 9,
   "metadata": {},
   "outputs": [
    {
     "name": "stdout",
     "output_type": "stream",
     "text": [
      "    Item Material       Color  Price\n",
      "0   Sofa   Wooden      Maroon  25000\n",
      "2  Chair  Plastic         Red   1500\n",
      "4  Chair   Wooden  Light Blue   2500\n"
     ]
    }
   ],
   "source": [
    "print(furniture.iloc[::2])"
   ]
  },
  {
   "cell_type": "code",
   "execution_count": 15,
   "metadata": {},
   "outputs": [
    {
     "name": "stdout",
     "output_type": "stream",
     "text": [
      "        House  Activity1  Activity2  Activity3\n",
      "   Blue House         98         85         88\n",
      "    Red House         87         76         89\n",
      "  Green House         59         67         91\n",
      " Yellow House         78         99         55\n"
     ]
    }
   ],
   "source": [
    "#Qn 3\n",
    "data = {'House':['Blue House','Red House','Green House','Yellow House'],\n",
    "           'Activity1':[98,87,59,78],\n",
    "           'Activity2':[85,76,67,99],\n",
    "           'Activity3':[88,89,91,55]}\n",
    "furniture = pd.DataFrame(data)\n",
    "print(furniture.to_string(index=False))\n"
   ]
  },
  {
   "cell_type": "code",
   "execution_count": 16,
   "metadata": {},
   "outputs": [
    {
     "name": "stdout",
     "output_type": "stream",
     "text": [
      "       Red  Green  Blue  Yellow\n",
      "Term1  200    350   400     300\n",
      "Term2  189    250   400     300\n"
     ]
    }
   ],
   "source": [
    "r={'Term1':200,'Term2':189}\n",
    "g={'Term1':350,'Term2':250}\n",
    "b={'Term1':400,'Term2':400}\n",
    "y={'Term1':300,'Term2':300}\n",
    "c ={'Red':r,'Green':g,'Blue':b,'Yellow':y}\n",
    "df =pd.DataFrame(c)\n",
    "print(df)"
   ]
  },
  {
   "cell_type": "code",
   "execution_count": null,
   "metadata": {},
   "outputs": [],
   "source": []
  }
 ],
 "metadata": {
  "kernelspec": {
   "display_name": "Python 3",
   "language": "python",
   "name": "python3"
  },
  "language_info": {
   "codemirror_mode": {
    "name": "ipython",
    "version": 3
   },
   "file_extension": ".py",
   "mimetype": "text/x-python",
   "name": "python",
   "nbconvert_exporter": "python",
   "pygments_lexer": "ipython3",
   "version": "3.8.5"
  }
 },
 "nbformat": 4,
 "nbformat_minor": 4
}
