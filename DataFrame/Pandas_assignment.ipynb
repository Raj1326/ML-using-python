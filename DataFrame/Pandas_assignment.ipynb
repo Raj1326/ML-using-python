{
 "cells": [
  {
   "cell_type": "code",
   "execution_count": 1,
   "metadata": {},
   "outputs": [
    {
     "name": "stdout",
     "output_type": "stream",
     "text": [
      "Texas\n"
     ]
    }
   ],
   "source": [
    "#Qn 1 Which state has the most counties in it?\n",
    "import pandas as pd\n",
    "df = pd.read_csv(\"census.csv\")\n",
    "x = df.groupby('STNAME').count()['COUNTY']\n",
    "ans = x.idxmax()\n",
    "print(ans)"
   ]
  },
  {
   "cell_type": "code",
   "execution_count": 2,
   "metadata": {},
   "outputs": [
    {
     "name": "stdout",
     "output_type": "stream",
     "text": [
      "['California', 'Texas', 'Illinois']\n"
     ]
    }
   ],
   "source": [
    "#Q2 Only looking at the three most populous counties for each state,\n",
    "#what are the three most populous states\n",
    "#(in order of highest population to lowest population)?\n",
    "top_counties_df = df.sort_values(by =['STNAME','CENSUS2010POP'],\n",
    "                              ascending =False).groupby('STNAME').head(3)\n",
    "ans = top_counties_df.groupby('STNAME').sum().sort_values(by='CENSUS2010POP',\n",
    "                                                         ascending=False).head(3).index.tolist()\n",
    "print(ans)  \n",
    "#print(top_counties_df)"
   ]
  },
  {
   "cell_type": "code",
   "execution_count": 3,
   "metadata": {},
   "outputs": [
    {
     "name": "stdout",
     "output_type": "stream",
     "text": [
      "['California', 'Texas', 'New York']\n"
     ]
    }
   ],
   "source": [
    "#Qn 3 what are the three most populous states, \n",
    "#which has maximum no of counties \n",
    "top_counties_df = df.groupby('STNAME').sum().sort_values(by =['STNAME','CENSUS2010POP'],\n",
    "                              ascending =False).groupby('STNAME').head(3)\n",
    "ans = top_counties_df.sort_values(by='CENSUS2010POP',ascending=False).head(3).index.tolist()\n",
    "print(ans) \n",
    "#print(top_counties_df)"
   ]
  },
  {
   "cell_type": "code",
   "execution_count": null,
   "metadata": {},
   "outputs": [],
   "source": [
    "#Qn 3 Same\n",
    "top_counties_df = df.groupby('STNAME').sum().sort_values(by =['CENSUS2010POP'],\n",
    "                              ascending =False).head(3).index.tolist()\n",
    "\n",
    "print(top_counties_df)"
   ]
  }
 ],
 "metadata": {
  "kernelspec": {
   "display_name": "Python 3",
   "language": "python",
   "name": "python3"
  },
  "language_info": {
   "codemirror_mode": {
    "name": "ipython",
    "version": 3
   },
   "file_extension": ".py",
   "mimetype": "text/x-python",
   "name": "python",
   "nbconvert_exporter": "python",
   "pygments_lexer": "ipython3",
   "version": "3.8.5"
  }
 },
 "nbformat": 4,
 "nbformat_minor": 4
}
