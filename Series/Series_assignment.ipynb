{
 "cells": [
  {
   "cell_type": "code",
   "execution_count": 1,
   "metadata": {},
   "outputs": [],
   "source": [
    "import pandas as pd\n",
    "import numpy as np"
   ]
  },
  {
   "cell_type": "code",
   "execution_count": 2,
   "metadata": {},
   "outputs": [
    {
     "name": "stdout",
     "output_type": "stream",
     "text": [
      "0     a\n",
      "1     b\n",
      "2     c\n",
      "3     d\n",
      "4     e\n",
      "5     f\n",
      "6     g\n",
      "7     h\n",
      "8     i\n",
      "9     j\n",
      "10    k\n",
      "11    l\n",
      "12    m\n",
      "13    n\n",
      "14    o\n",
      "15    p\n",
      "16    q\n",
      "17    r\n",
      "18    s\n",
      "19    t\n",
      "20    u\n",
      "21    v\n",
      "22    w\n",
      "23    x\n",
      "24    y\n",
      "25    z\n",
      "dtype: object\n",
      "0    0\n",
      "1    2\n",
      "2    4\n",
      "3    6\n",
      "4    8\n",
      "dtype: int32\n",
      "a    0\n",
      "b    2\n",
      "c    4\n",
      "d    6\n",
      "e    8\n",
      "dtype: int64\n"
     ]
    }
   ],
   "source": [
    "# Q1. Create pandas series from different data types like list, numpy array and dictionary.\n",
    "\n",
    "\n",
    "mylist=list('abcdefghijklmnopqrstuvwxyz')\n",
    "myarr=np.arange(0,10,2)\n",
    "mydict=dict(zip(mylist,myarr))\n",
    "\n",
    "ser1=pd.Series(mylist)\n",
    "ser2=pd.Series(myarr)\n",
    "ser3=pd.Series(mydict)\n",
    "print(ser1)\n",
    "print(ser2)\n",
    "print(ser3)\n"
   ]
  },
  {
   "cell_type": "code",
   "execution_count": 4,
   "metadata": {},
   "outputs": [],
   "source": [
    "ser1=pd.Series([1,2,3,4,5])\n",
    "ser2=pd.Series([4,5,6,7,8])\n"
   ]
  },
  {
   "cell_type": "code",
   "execution_count": 5,
   "metadata": {},
   "outputs": [
    {
     "data": {
      "text/plain": [
       "0    1\n",
       "1    2\n",
       "2    3\n",
       "dtype: int64"
      ]
     },
     "execution_count": 5,
     "metadata": {},
     "output_type": "execute_result"
    }
   ],
   "source": [
    "# Q2.How to get the items of series A not present in series B.\n",
    "\n",
    "ser1[~ser1.isin(ser2)]\n"
   ]
  },
  {
   "cell_type": "code",
   "execution_count": 45,
   "metadata": {},
   "outputs": [
    {
     "name": "stdout",
     "output_type": "stream",
     "text": [
      "union: 0    1\n",
      "1    2\n",
      "2    3\n",
      "3    4\n",
      "4    5\n",
      "5    6\n",
      "6    7\n",
      "7    8\n",
      "dtype: int64\n",
      "intersection: 0    4\n",
      "1    5\n",
      "dtype: int64\n"
     ]
    },
    {
     "data": {
      "text/plain": [
       "0    1\n",
       "1    2\n",
       "2    3\n",
       "5    6\n",
       "6    7\n",
       "7    8\n",
       "dtype: int64"
      ]
     },
     "execution_count": 45,
     "metadata": {},
     "output_type": "execute_result"
    }
   ],
   "source": [
    "# Q3. How to get intersection of two series?\n",
    "# Q4. How to get union of two series?\n",
    "# Q5. How to get the items not common to both series A and series B?\n",
    "\n",
    "ser1=pd.Series([1,2,3,4,5])\n",
    "ser2=pd.Series([4,5,6,7,8])\n",
    "\n",
    "\n",
    "ser_u=pd.Series(np.union1d(ser1,ser2))\n",
    "print(\"union:\",ser_u)\n",
    "ser_i=pd.Series(np.intersect1d(ser1,ser2))\n",
    "print(\"intersection:\",ser_i)\n",
    "ser_u[~ser_u.isin(ser_i)]\n",
    "\n"
   ]
  },
  {
   "cell_type": "code",
   "execution_count": 8,
   "metadata": {},
   "outputs": [
    {
     "data": {
      "text/plain": [
       "b    7\n",
       "d    5\n",
       "c    4\n",
       "g    4\n",
       "f    3\n",
       "h    3\n",
       "a    3\n",
       "e    1\n",
       "dtype: int64"
      ]
     },
     "execution_count": 8,
     "metadata": {},
     "output_type": "execute_result"
    }
   ],
   "source": [
    "#Q6. Calculate the frequency counts of each unique value in series.\n",
    "ser=pd.Series(np.take(list('abcdefgh'),\n",
    "             np.random.randint(8,size=30)))\n",
    "#print(ser)\n",
    "ser.value_counts()"
   ]
  },
  {
   "cell_type": "code",
   "execution_count": 12,
   "metadata": {},
   "outputs": [
    {
     "name": "stdout",
     "output_type": "stream",
     "text": [
      "0    9\n",
      "1    3\n",
      "2    6\n",
      "3    4\n",
      "4    9\n",
      "5    5\n",
      "6    2\n",
      "7    5\n",
      "8    8\n",
      "dtype: int32\n"
     ]
    },
    {
     "data": {
      "text/plain": [
       "(array([0, 1, 2, 4], dtype=int64),)"
      ]
     },
     "execution_count": 12,
     "metadata": {},
     "output_type": "execute_result"
    }
   ],
   "source": [
    "# Q7. Find the positions of numbers that are multiples of 3 from series.\n",
    "\n",
    "ser=pd.Series(np.random.randint(1,10,9))\n",
    "print(ser)\n",
    "r=np.where(ser%3==0)\n",
    "r"
   ]
  },
  {
   "cell_type": "code",
   "execution_count": 26,
   "metadata": {},
   "outputs": [
    {
     "data": {
      "text/plain": [
       "0     a\n",
       "4     e\n",
       "8     i\n",
       "14    o\n",
       "20    v\n",
       "dtype: object"
      ]
     },
     "execution_count": 26,
     "metadata": {},
     "output_type": "execute_result"
    }
   ],
   "source": [
    "# Q8. How to extract items at given positions from a series.\n",
    "\n",
    "ser=pd.Series(list('abcdefghijklmnoqrstuvwxyz'))\n",
    "pos=[0,4,8,14,20]\n",
    "ser.take(pos)"
   ]
  },
  {
   "cell_type": "code",
   "execution_count": 39,
   "metadata": {},
   "outputs": [
    {
     "data": {
      "text/plain": [
       "[5, 4, 0, 8]"
      ]
     },
     "execution_count": 39,
     "metadata": {},
     "output_type": "execute_result"
    }
   ],
   "source": [
    "# Q9. Get the positions of items of series A in series B as a list.\n",
    "\n",
    "ser1=pd.Series([10,9,6,5,3,1,12,8,13])\n",
    "ser2=pd.Series([1,3,10,13])\n",
    "# solution 1\n",
    "[np.where(i==ser1)[0].tolist()[0]for i in ser2]\n",
    "\n",
    "# solution 2\n",
    "[pd.Index(ser1).get_loc(i) for i in ser2]"
   ]
  }
 ],
 "metadata": {
  "kernelspec": {
   "display_name": "Python 3",
   "language": "python",
   "name": "python3"
  },
  "language_info": {
   "codemirror_mode": {
    "name": "ipython",
    "version": 3
   },
   "file_extension": ".py",
   "mimetype": "text/x-python",
   "name": "python",
   "nbconvert_exporter": "python",
   "pygments_lexer": "ipython3",
   "version": "3.8.5"
  }
 },
 "nbformat": 4,
 "nbformat_minor": 2
}
